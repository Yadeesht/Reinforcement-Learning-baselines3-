{
 "cells": [
  {
   "cell_type": "markdown",
   "id": "8648be3e",
   "metadata": {},
   "source": [
    "# 1.import Depencies"
   ]
  },
  {
   "cell_type": "code",
   "execution_count": 6,
   "id": "9c6b4412",
   "metadata": {},
   "outputs": [],
   "source": [
    "import gym\n",
    "from stable_baselines3 import A2C\n",
    "from stable_baselines3.common.vec_env import VecFrameStack\n",
    "from stable_baselines3.common.evaluation import evaluate_policy\n",
    "from stable_baselines3.common.env_util import make_atari_env\n",
    "import os\n",
    "import pygame"
   ]
  },
  {
   "cell_type": "markdown",
   "id": "c6f9ff9c",
   "metadata": {},
   "source": [
    "# 2.Test Environment"
   ]
  },
  {
   "cell_type": "code",
   "execution_count": 13,
   "id": "26284e64",
   "metadata": {},
   "outputs": [],
   "source": [
    "env=gym.make(\"Breakout-v4\",render_mode=\"human\")"
   ]
  },
  {
   "cell_type": "code",
   "execution_count": 15,
   "id": "5fc5843c",
   "metadata": {},
   "outputs": [
    {
     "data": {
      "text/plain": [
       "Discrete(4)"
      ]
     },
     "execution_count": 15,
     "metadata": {},
     "output_type": "execute_result"
    }
   ],
   "source": [
    "env.action_space"
   ]
  },
  {
   "cell_type": "code",
   "execution_count": 16,
   "id": "7c3fc14c",
   "metadata": {},
   "outputs": [
    {
     "data": {
      "text/plain": [
       "Box(0, 255, (210, 160, 3), uint8)"
      ]
     },
     "execution_count": 16,
     "metadata": {},
     "output_type": "execute_result"
    }
   ],
   "source": [
    "env.observation_space"
   ]
  },
  {
   "cell_type": "code",
   "execution_count": 17,
   "id": "fb3b2019",
   "metadata": {},
   "outputs": [
    {
     "name": "stderr",
     "output_type": "stream",
     "text": [
      "C:\\Users\\yadee\\anaconda3\\Lib\\site-packages\\gym\\utils\\passive_env_checker.py:289: UserWarning: \u001b[33mWARN: No render fps was declared in the environment (env.metadata['render_fps'] is None or not defined), rendering may occur at inconsistent fps.\u001b[0m\n",
      "  logger.warn(\n",
      "C:\\Users\\yadee\\anaconda3\\Lib\\site-packages\\gym\\utils\\passive_env_checker.py:233: DeprecationWarning: `np.bool8` is a deprecated alias for `np.bool_`.  (Deprecated NumPy 1.24)\n",
      "  if not isinstance(terminated, (bool, np.bool8)):\n"
     ]
    },
    {
     "name": "stdout",
     "output_type": "stream",
     "text": [
      "Episode:1 Score:2.0\n",
      "Episode:2 Score:1.0\n",
      "Episode:3 Score:1.0\n",
      "Episode:4 Score:3.0\n",
      "Episode:5 Score:1.0\n"
     ]
    }
   ],
   "source": [
    "episode = 5\n",
    "for i in range(1,episode+1):\n",
    "    obs=env.reset()\n",
    "    done=False\n",
    "    score=0\n",
    "    while not done:\n",
    "        env.render()\n",
    "        action=env.action_space.sample()\n",
    "        obs,reward,done,t,info = env.step(action)\n",
    "        score+=reward\n",
    "    print(\"Episode:{} Score:{}\".format(i,score))\n",
    "env.close()"
   ]
  },
  {
   "cell_type": "code",
   "execution_count": 18,
   "id": "7ab08a97",
   "metadata": {},
   "outputs": [],
   "source": [
    "env.close()"
   ]
  },
  {
   "cell_type": "markdown",
   "id": "1c2534b7",
   "metadata": {},
   "source": [
    "# 3.vectorise Environment and Traain Model"
   ]
  },
  {
   "cell_type": "code",
   "execution_count": 19,
   "id": "90b6ff33",
   "metadata": {},
   "outputs": [],
   "source": [
    "env = make_atari_env(\"Breakout-v4\",n_envs=4,seed=0)\n",
    "env = VecFrameStack(env,n_stack=4)"
   ]
  },
  {
   "cell_type": "code",
   "execution_count": 20,
   "id": "93677a20",
   "metadata": {},
   "outputs": [
    {
     "name": "stdout",
     "output_type": "stream",
     "text": [
      "Using cpu device\n",
      "Wrapping the env in a VecTransposeImage.\n"
     ]
    }
   ],
   "source": [
    "path=os.path.join(\"training\",\"logs\")\n",
    "model=A2C('CnnPolicy',env,verbose=1,tensorboard_log=path)"
   ]
  },
  {
   "cell_type": "code",
   "execution_count": 25,
   "id": "b68c58ce",
   "metadata": {},
   "outputs": [
    {
     "name": "stdout",
     "output_type": "stream",
     "text": [
      "Logging to training\\logs\\A2C_3\n"
     ]
    },
    {
     "data": {
      "text/plain": [
       "<stable_baselines3.a2c.a2c.A2C at 0x2562cd3d090>"
      ]
     },
     "execution_count": 25,
     "metadata": {},
     "output_type": "execute_result"
    }
   ],
   "source": [
    "model.learn(total_timesteps=100000)# here you can also increase the timesteps so that you can comeup with a better performing model"
   ]
  },
  {
   "cell_type": "markdown",
   "id": "c6846a35",
   "metadata": {},
   "source": [
    "# 4.Evalaute and Test"
   ]
  },
  {
   "cell_type": "code",
   "execution_count": 26,
   "id": "cb53d95e",
   "metadata": {},
   "outputs": [
    {
     "data": {
      "text/plain": [
       "(2.1, 0.3)"
      ]
     },
     "execution_count": 26,
     "metadata": {},
     "output_type": "execute_result"
    }
   ],
   "source": [
    "pygame.init()\n",
    "evaluate_policy(model,env,n_eval_episodes=10,render=True)"
   ]
  },
  {
   "cell_type": "code",
   "execution_count": null,
   "id": "de493d4b",
   "metadata": {},
   "outputs": [],
   "source": []
  },
  {
   "cell_type": "code",
   "execution_count": null,
   "id": "318193c2",
   "metadata": {},
   "outputs": [],
   "source": []
  }
 ],
 "metadata": {
  "kernelspec": {
   "display_name": "Python 3 (ipykernel)",
   "language": "python",
   "name": "python3"
  },
  "language_info": {
   "codemirror_mode": {
    "name": "ipython",
    "version": 3
   },
   "file_extension": ".py",
   "mimetype": "text/x-python",
   "name": "python",
   "nbconvert_exporter": "python",
   "pygments_lexer": "ipython3",
   "version": "3.11.5"
  }
 },
 "nbformat": 4,
 "nbformat_minor": 5
}
